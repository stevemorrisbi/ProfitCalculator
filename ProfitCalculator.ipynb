{
  "nbformat": 4,
  "nbformat_minor": 0,
  "metadata": {
    "colab": {
      "provenance": [],
      "authorship_tag": "ABX9TyPW5ECvw6CyyGxckqXirJQp",
      "include_colab_link": true
    },
    "kernelspec": {
      "name": "python3",
      "display_name": "Python 3"
    },
    "language_info": {
      "name": "python"
    }
  },
  "cells": [
    {
      "cell_type": "markdown",
      "metadata": {
        "id": "view-in-github",
        "colab_type": "text"
      },
      "source": [
        "<a href=\"https://colab.research.google.com/github/stevemorrisbi/ProfitCalculator/blob/main/ProfitCalculator.ipynb\" target=\"_parent\"><img src=\"https://colab.research.google.com/assets/colab-badge.svg\" alt=\"Open In Colab\"/></a>"
      ]
    },
    {
      "cell_type": "code",
      "execution_count": 17,
      "metadata": {
        "id": "S5USHDQjuXcB"
      },
      "outputs": [],
      "source": [
        "def profit_calculator(purchase_price, sold_price, item, sponsorship = 0.00):\n",
        "    '''\n",
        "    Calculate the total profit from sales taking into account selling fees and advertising \n",
        "    '''\n",
        "    # Sold price + postage \n",
        "    sold_post = float(sold_price) + 1.50\n",
        "    # Calculating sold price + postage fee and minus 12.5%\n",
        "    ad_fee = sold_post * 0.125 \n",
        "    # If sponsorship then deduct the total % off the sold for price that also includes the postage\n",
        "    if sponsorship == 0: \n",
        "        minus_ad = sold_price - ad_fee\n",
        "    else:\n",
        "        minus_ad = (sold_price - ad_fee) - (sold_post * float(sponsorship))     \n",
        "    # Taking sale price after fees from purchase price\n",
        "    profit_dol = minus_ad - purchase_price\n",
        "    # Converting sale in dollars to pounds\n",
        "    pounds = float(profit_dol) * 0.79 \n",
        "    # Formating the profit to two decimal places \n",
        "    profit_format = 'The total profit for {} is \\xA3{:.2f} or ${:.2f}'.format(item, pounds, profit_dol)\n",
        "    \n",
        "    return profit_format"
      ]
    },
    {
      "cell_type": "code",
      "source": [
        "# item purchase price, sold for price, item name, sponsorship % (e.g 0.08 = 8% | 1.00 = 100% )\n",
        "profit_calculator(7.00, 20.00, 'insert item name', 0.08)"
      ],
      "metadata": {
        "colab": {
          "base_uri": "https://localhost:8080/",
          "height": 35
        },
        "id": "uy7Vrhoux4vi",
        "outputId": "8c8859a3-67b4-4895-ffa8-2a602c497310"
      },
      "execution_count": 19,
      "outputs": [
        {
          "output_type": "execute_result",
          "data": {
            "text/plain": [
              "'The total profit for insert item name is £6.79 or $8.59'"
            ],
            "application/vnd.google.colaboratory.intrinsic+json": {
              "type": "string"
            }
          },
          "metadata": {},
          "execution_count": 19
        }
      ]
    }
  ]
}